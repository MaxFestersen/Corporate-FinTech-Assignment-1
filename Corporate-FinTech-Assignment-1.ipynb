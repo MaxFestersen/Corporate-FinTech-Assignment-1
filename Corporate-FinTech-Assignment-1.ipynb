{
 "cells": [
  {
   "cell_type": "markdown",
   "metadata": {},
   "source": [
    "# Corporate FinTech - Assignment 1"
   ]
  },
  {
   "cell_type": "code",
   "execution_count": 39,
   "metadata": {},
   "outputs": [
    {
     "ename": "ModuleNotFoundError",
     "evalue": "No module named 'pypfopt'",
     "output_type": "error",
     "traceback": [
      "\u001b[1;31m---------------------------------------------------------------------------\u001b[0m",
      "\u001b[1;31mModuleNotFoundError\u001b[0m                       Traceback (most recent call last)",
      "\u001b[1;32m<ipython-input-39-2af38a6e51b2>\u001b[0m in \u001b[0;36m<module>\u001b[1;34m\u001b[0m\n\u001b[0;32m     12\u001b[0m \u001b[1;32mimport\u001b[0m \u001b[0mscipy\u001b[0m\u001b[1;33m.\u001b[0m\u001b[0moptimize\u001b[0m \u001b[1;32mas\u001b[0m \u001b[0msco\u001b[0m\u001b[1;33m\u001b[0m\u001b[1;33m\u001b[0m\u001b[0m\n\u001b[0;32m     13\u001b[0m \u001b[1;32mimport\u001b[0m \u001b[0mwarnings\u001b[0m\u001b[1;33m\u001b[0m\u001b[1;33m\u001b[0m\u001b[0m\n\u001b[1;32m---> 14\u001b[1;33m \u001b[1;32mfrom\u001b[0m \u001b[0mpypfopt\u001b[0m\u001b[1;33m.\u001b[0m\u001b[0mefficient_frontier\u001b[0m \u001b[1;32mimport\u001b[0m \u001b[0mEfficientFrontier\u001b[0m\u001b[1;33m\u001b[0m\u001b[1;33m\u001b[0m\u001b[0m\n\u001b[0m\u001b[0;32m     15\u001b[0m \u001b[1;32mfrom\u001b[0m \u001b[0mpypfopt\u001b[0m \u001b[1;32mimport\u001b[0m \u001b[0mrisk_models\u001b[0m\u001b[1;33m\u001b[0m\u001b[1;33m\u001b[0m\u001b[0m\n\u001b[0;32m     16\u001b[0m \u001b[1;32mfrom\u001b[0m \u001b[0mpypfopt\u001b[0m \u001b[1;32mimport\u001b[0m \u001b[0mexpected_returns\u001b[0m\u001b[1;33m\u001b[0m\u001b[1;33m\u001b[0m\u001b[0m\n",
      "\u001b[1;31mModuleNotFoundError\u001b[0m: No module named 'pypfopt'"
     ]
    }
   ],
   "source": [
    "#%% Imports\n",
    "#import math\n",
    "import numpy as np\n",
    "#import statistics\n",
    "import pandas as pd\n",
    "#import scipy.stats as scs\n",
    "# from pylab import mpl, plt\n",
    "import random\n",
    "from matplotlib.pylab import plt#, mpl\n",
    "from datetime import datetime\n",
    "from dateutil.relativedelta import relativedelta\n",
    "import scipy.optimize as sco\n",
    "import warnings\n",
    "from pypfopt.efficient_frontier import EfficientFrontier\n",
    "from pypfopt import risk_models\n",
    "from pypfopt import expected_returns\n",
    "import webbrowser"
   ]
  },
  {
   "cell_type": "code",
   "execution_count": 2,
   "metadata": {},
   "outputs": [
    {
     "name": "stdout",
     "output_type": "stream",
     "text": [
      "Mads Duelund Dorka, mador17@student.sdu.dk\n",
      "Max Festersen Hansen, maxfh20@student.sdu.dk\n",
      "Mathias Eriksen, merik17@student.sdu.dk\n",
      "Daniel Lindberg, dlind16@student.sdu.dk\n",
      "Emilie Bruun Therp, emthe15@student.sdu.dk\n"
     ]
    }
   ],
   "source": [
    "#%% Name and e-mail\n",
    "print('Mads Duelund Dorka, mador17@student.sdu.dk')\n",
    "print('Max Festersen Hansen, maxfh20@student.sdu.dk')\n",
    "print('Mathias Eriksen, merik17@student.sdu.dk')\n",
    "print('Daniel Lindberg, dlind16@student.sdu.dk')\n",
    "print('Emilie Bruun Therp, emthe15@student.sdu.dk')"
   ]
  },
  {
   "cell_type": "code",
   "execution_count": 5,
   "metadata": {},
   "outputs": [
    {
     "ename": "NameError",
     "evalue": "name 'warnings' is not defined",
     "output_type": "error",
     "traceback": [
      "\u001b[1;31m---------------------------------------------------------------------------\u001b[0m",
      "\u001b[1;31mNameError\u001b[0m                                 Traceback (most recent call last)",
      "\u001b[1;32m<ipython-input-5-91cb09d9ef7c>\u001b[0m in \u001b[0;36m<module>\u001b[1;34m\u001b[0m\n\u001b[1;32m----> 1\u001b[1;33m \u001b[0mwarnings\u001b[0m\u001b[1;33m.\u001b[0m\u001b[0mfilterwarnings\u001b[0m\u001b[1;33m(\u001b[0m\u001b[1;34m'ignore'\u001b[0m\u001b[1;33m)\u001b[0m\u001b[1;33m\u001b[0m\u001b[1;33m\u001b[0m\u001b[0m\n\u001b[0m",
      "\u001b[1;31mNameError\u001b[0m: name 'warnings' is not defined"
     ]
    }
   ],
   "source": [
    "warnings.filterwarnings('ignore')"
   ]
  },
  {
   "cell_type": "code",
   "execution_count": 6,
   "metadata": {},
   "outputs": [],
   "source": [
    "#%% Design\n",
    "plt.style.use('fivethirtyeight')"
   ]
  },
  {
   "cell_type": "code",
   "execution_count": 33,
   "metadata": {},
   "outputs": [],
   "source": [
    "#%% Read data into code\n",
    "data = pd.read_csv('https://www.maxfest.dk/sdu/crypto-markets.csv')\n",
    "#data.describe()\n",
    "\n",
    "new_data = data.loc[data['date'] > '2017 - 01 - 01'] # Sort date\n",
    "#new_data.info()"
   ]
  },
  {
   "cell_type": "markdown",
   "metadata": {},
   "source": [
    "# Exercise 1"
   ]
  },
  {
   "cell_type": "code",
   "execution_count": 34,
   "metadata": {},
   "outputs": [
    {
     "ename": "NameError",
     "evalue": "name 'webbrowser' is not defined",
     "output_type": "error",
     "traceback": [
      "\u001b[1;31m---------------------------------------------------------------------------\u001b[0m",
      "\u001b[1;31mNameError\u001b[0m                                 Traceback (most recent call last)",
      "\u001b[1;32m<ipython-input-34-0be94b01d7b1>\u001b[0m in \u001b[0;36m<module>\u001b[1;34m\u001b[0m\n\u001b[1;32m----> 1\u001b[1;33m \u001b[0mwebbrowser\u001b[0m\u001b[1;33m.\u001b[0m\u001b[0mopen\u001b[0m\u001b[1;33m(\u001b[0m\u001b[1;34m'https://www.maxfest.dk/sdu/ex1.pdf'\u001b[0m\u001b[1;33m)\u001b[0m  \u001b[1;31m# Go to example.com\u001b[0m\u001b[1;33m\u001b[0m\u001b[1;33m\u001b[0m\u001b[0m\n\u001b[0m",
      "\u001b[1;31mNameError\u001b[0m: name 'webbrowser' is not defined"
     ]
    }
   ],
   "source": [
    "webbrowser.open('https://www.maxfest.dk/sdu/ex1.pdf')  # Go to example.com"
   ]
  },
  {
   "cell_type": "markdown",
   "metadata": {},
   "source": [
    "# Exercise 2"
   ]
  },
  {
   "cell_type": "code",
   "execution_count": null,
   "metadata": {},
   "outputs": [],
   "source": [
    "#%% Exercise 2 preperation\n",
    "random.seed(42069)\n",
    "results = { # generate dictionary to carry information for each iteration\n",
    "    \"i\" : [], # Iteration\n",
    "    \"N\": [], # Number of cryptos\n",
    "    \"portfolio_return\" : [],\n",
    "    \"portfolio_volatility\" : [],\n",
    "    \"sharpe_ratio\" : []\n",
    "}\n",
    "results[\"i\"].append(0) # First result is created outside of loop\n",
    "\n",
    "# Set inital data\n",
    "pd_data = new_data[['date', 'name', 'close']] # Filter to date, name and close\n",
    "\n",
    "# Preperation to choose random date\n",
    "unique_days = pd_data[\"date\"].unique() # filter unique days in data\n",
    "last_day = datetime.strptime(unique_days[-1], \"%Y-%m-%d\") # Get last date entry in date format (to make date calculations)\n",
    "last_available_date = last_day - relativedelta(months=+6) # Get last date that is at least 6 months from end date\n",
    "last_available_date = last_available_date.strftime(\"%Y-%m-%d\") # Format as string\n",
    "unique_days_filter = unique_days <= last_available_date # create filter list\n",
    "unique_days = unique_days[unique_days_filter] # filter unavailable dates (not with 6 months after)\n",
    "n_unique_days = len(unique_days) # count unique days"
   ]
  },
  {
   "cell_type": "markdown",
   "metadata": {},
   "source": [
    "## 1.) \n",
    "Rank cryptos according to their median overall trading volume."
   ]
  },
  {
   "cell_type": "code",
   "execution_count": null,
   "metadata": {},
   "outputs": [],
   "source": [
    "new_data_1 = new_data[['date', 'name', 'volume']] # Get data needed"
   ]
  },
  {
   "cell_type": "code",
   "execution_count": null,
   "metadata": {
    "scrolled": true
   },
   "outputs": [],
   "source": [
    "# Use to print out nicely :D\n",
    "new_data_median_sorted = new_data_1.groupby(\"name\").agg({\"volume\": [\"median\"]}).sort_values(by=(\"volume\", \"median\"), ascending=False) # Group by name, aggregate volume by median and sort by volume as primary and then median as secondary\n",
    "# print(new_data_median_sorted)\n",
    "crypto_curr = new_data_median_sorted.head(50) # Get 50 first results - the top 50 because of sorting\n",
    "print(crypto_curr) # Print results\n",
    "# 2017-06-01 - 2018-01-01 (Close values)\n",
    "print(\"PlaceholderText\")"
   ]
  },
  {
   "cell_type": "markdown",
   "metadata": {},
   "source": [
    "## 2.) \n",
    "Use the 50 most traded cryptos according to your ranking in 1.) "
   ]
  },
  {
   "cell_type": "markdown",
   "metadata": {},
   "source": [
    "### 2.2.a)\n",
    "Randomly choose a date and randomly choose N cryptos on this date."
   ]
  },
  {
   "cell_type": "code",
   "execution_count": 11,
   "metadata": {},
   "outputs": [],
   "source": [
    "# Choosing a random date\n",
    "n_randdom_day = random.randint(0,n_unique_days-1) # Select random entry number\n",
    "unique_day = unique_days[n_randdom_day] # get entry\n",
    "unique_day_until = datetime.strptime(unique_day, \"%Y-%m-%d\") + relativedelta(months=+6) # Find 6 months after random date\n",
    "unique_day_until = unique_day_until.strftime(\"%Y-%m-%d\") # Format as string"
   ]
  },
  {
   "cell_type": "code",
   "execution_count": 12,
   "metadata": {},
   "outputs": [
    {
     "name": "stdout",
     "output_type": "stream",
     "text": [
      "The random chosen date is: 2017-04-03\n"
     ]
    }
   ],
   "source": [
    "# Print random date information:\n",
    "print(\"The random chosen date is: \" + unique_day)"
   ]
  },
  {
   "cell_type": "code",
   "execution_count": 13,
   "metadata": {},
   "outputs": [],
   "source": [
    "# Choose a random N of cryptos\n",
    "random_top_curr = crypto_curr.index.values # top 50 curencies - from 2.1\n",
    "for n in range(random.randint(0,49)): # Randomly run from 0 to 49 times (so at least 1 value is left)\n",
    "    random_top_curr = np.delete(random_top_curr, random.randint(0,len(random_top_curr)-1), 0) # remove a random value"
   ]
  },
  {
   "cell_type": "code",
   "execution_count": 14,
   "metadata": {},
   "outputs": [],
   "source": [
    "weight_random_top_curr = len(random_top_curr) # Amount of currencsies"
   ]
  },
  {
   "cell_type": "code",
   "execution_count": 15,
   "metadata": {},
   "outputs": [
    {
     "name": "stdout",
     "output_type": "stream",
     "text": [
      "There are  9  currencies.\n",
      "The random top currencies are:\n",
      "['Bitcoin' 'Tether' 'Ethereum' 'EOS' 'OmiseGO' 'Monero' 'Arcblock' '0x'\n",
      " 'Status']\n"
     ]
    }
   ],
   "source": [
    "print(\"There are \", weight_random_top_curr, \" currencies.\\nThe random top currencies are:\")\n",
    "print(random_top_curr)"
   ]
  },
  {
   "cell_type": "code",
   "execution_count": 16,
   "metadata": {},
   "outputs": [],
   "source": [
    "# Filter the days\n",
    "is_dates = pd_data['date'] >= unique_day # create filtering list from random date\n",
    "pd_data = pd_data[is_dates] # Filter by the random date and after\n",
    "is_dates = pd_data['date'] <= unique_day_until # create filtering list until 6 months after random date\n",
    "pd_data = pd_data[is_dates] # Filter by the random date and after"
   ]
  },
  {
   "cell_type": "code",
   "execution_count": 38,
   "metadata": {},
   "outputs": [],
   "source": [
    "# Filter by top currensies\n",
    "curr_in = pd_data['name'].isin(random_top_curr) # Create filter list by random top currencies\n",
    "pd_data = pd_data[curr_in] # Apply filter list"
   ]
  },
  {
   "cell_type": "markdown",
   "metadata": {},
   "source": [
    "### 2.2.b)\n",
    "Use 1/N weights and calculate the corresponding portfolio return, portfolio volatility, and Sharpe ratio for a holding period of up to six calendar months."
   ]
  },
  {
   "cell_type": "code",
   "execution_count": 18,
   "metadata": {},
   "outputs": [],
   "source": [
    "pd_data_1 = pd_data.pivot_table(index = 'date', columns = 'name', values = 'close') # Set names as columns, close as values with date as index\n",
    "ret = np.log(pd_data_1/pd_data_1.shift(1)) # Calculate log-return of different stocks"
   ]
  },
  {
   "cell_type": "code",
   "execution_count": 19,
   "metadata": {},
   "outputs": [
    {
     "name": "stdout",
     "output_type": "stream",
     "text": [
      "Arcblock removed because it was empty for holding period.\n"
     ]
    }
   ],
   "source": [
    "ret = ret.dropna(axis=1, how='all').dropna(axis=0, how='any')  # Handling missing values, drop any column with a nan\n",
    "for item in random_top_curr:\n",
    "    if(item not in ret.columns):\n",
    "        print(item + \" removed because it was empty for holding period.\")"
   ]
  },
  {
   "cell_type": "code",
   "execution_count": 20,
   "metadata": {},
   "outputs": [
    {
     "name": "stdout",
     "output_type": "stream",
     "text": [
      "N is now: 8\n"
     ]
    }
   ],
   "source": [
    "if (len(ret.columns) < weight_random_top_curr):\n",
    "    print(\"N is now: \" + str(len(ret.columns)))"
   ]
  },
  {
   "cell_type": "code",
   "execution_count": 21,
   "metadata": {},
   "outputs": [],
   "source": [
    "weight = np.array(1/len(ret.columns)) # calculate 1/N weights"
   ]
  },
  {
   "cell_type": "code",
   "execution_count": 22,
   "metadata": {},
   "outputs": [],
   "source": [
    "results[\"N\"].append(len(ret.columns)) # Append Number of columns to results dictionary"
   ]
  },
  {
   "cell_type": "code",
   "execution_count": 23,
   "metadata": {},
   "outputs": [],
   "source": [
    "weight_array = np.full((len(ret.columns), 1), weight) # Create array with weights"
   ]
  },
  {
   "cell_type": "code",
   "execution_count": 24,
   "metadata": {},
   "outputs": [],
   "source": [
    "# Portfolio return, Portfolio volatility, and Sharpe ratio\n",
    "# Portfolio volatility (for holding period)\n",
    "#ret.mean() * 126 # Calculate mean of return (from half of an year)\n",
    "#ret.cov() * 126 # Calculate covariance matrix for stocks\n",
    "\n",
    "#np.sum(ret.mean().values * weight_array) * 126\n",
    "#np.dot(weight_array.T, np.dot(ret.cov() * 126, weight_array))\n",
    "#math.sqrt(np.dot(weight_array.T, np.dot(ret.cov() * 126, weight_array )))"
   ]
  },
  {
   "cell_type": "code",
   "execution_count": 25,
   "metadata": {},
   "outputs": [],
   "source": [
    "def port_ret(weight_array):\n",
    "    return np.sum(np.array(ret.mean().values) * weight_array) * 126"
   ]
  },
  {
   "cell_type": "code",
   "execution_count": 26,
   "metadata": {},
   "outputs": [],
   "source": [
    "def port_vol(weight):\n",
    "    p_var = np.dot(\n",
    "               weight.T,\n",
    "               ret.cov() * 126\n",
    "           )\n",
    "    p_var = np.sqrt(p_var)\n",
    "    p_var[np.isnan(p_var)] = 0\n",
    "    return(p_var)"
   ]
  },
  {
   "cell_type": "code",
   "execution_count": 27,
   "metadata": {},
   "outputs": [
    {
     "name": "stderr",
     "output_type": "stream",
     "text": [
      "<ipython-input-26-80b850912364>:6: RuntimeWarning: invalid value encountered in sqrt\n",
      "  p_var = np.sqrt(p_var)\n"
     ]
    }
   ],
   "source": [
    "# Add to array (for ex2 c and ex2 d)\n",
    "results[\"portfolio_return\"].append(port_ret(weight_array))\n",
    "results[\"portfolio_volatility\"].append(np.sum(port_vol(weight_array)))"
   ]
  },
  {
   "cell_type": "code",
   "execution_count": 28,
   "metadata": {},
   "outputs": [],
   "source": [
    "# Sharpe ratio (for holding period)\n",
    "Sharpe_Ratio = ret.mean()/ret.std()\n",
    "Holding_SR = (126**0.5) * sum(Sharpe_Ratio)\n",
    "results[\"sharpe_ratio\"].append(Holding_SR)"
   ]
  },
  {
   "cell_type": "markdown",
   "metadata": {},
   "source": [
    "### 2.2.c)\n",
    "repeat a.) and b.) 10,000 times and provide descriptive statistics for the resulting portfolio return, portfolio volatility, and Sharpe ratio for the number of cryptos N = 1, 2, …, 50."
   ]
  },
  {
   "cell_type": "code",
   "execution_count": 36,
   "metadata": {},
   "outputs": [],
   "source": [
    "for i in range(1,10000):\n",
    "    results[\"i\"].append(i)\n",
    "    # Set inital data\n",
    "    pd_data = new_data[['date', 'name', 'close']]  # Filter to date, name and close"
   ]
  },
  {
   "cell_type": "code",
   "execution_count": 37,
   "metadata": {},
   "outputs": [
    {
     "ename": "IndentationError",
     "evalue": "unexpected indent (<ipython-input-37-4682ecd36e52>, line 3)",
     "output_type": "error",
     "traceback": [
      "\u001b[1;36m  File \u001b[1;32m\"<ipython-input-37-4682ecd36e52>\"\u001b[1;36m, line \u001b[1;32m3\u001b[0m\n\u001b[1;33m    n_randdom_day = random.randint(0, n_unique_days - 1)  # Select random entry number\u001b[0m\n\u001b[1;37m    ^\u001b[0m\n\u001b[1;31mIndentationError\u001b[0m\u001b[1;31m:\u001b[0m unexpected indent\n"
     ]
    }
   ],
   "source": [
    "# Filtering\n",
    "# Choosing a random date\n",
    "    n_randdom_day = random.randint(0, n_unique_days - 1)  # Select random entry number\n",
    "    unique_day = unique_days[n_randdom_day]  # get entry\n",
    "    unique_day_until = datetime.strptime(unique_day, \"%Y-%m-%d\") + relativedelta(months=+6)  # Find 6 months after random date\n",
    "    unique_day_until = unique_day_until.strftime(\"%Y-%m-%d\")  # Format as string"
   ]
  },
  {
   "cell_type": "code",
   "execution_count": null,
   "metadata": {},
   "outputs": [],
   "source": [
    "# Choose a random N of cryptos\n",
    "    random_top_curr = crypto_curr.index.values  # top 50 curencies - from 2.1\n",
    "    for n in range(random.randint(0, 49)):  # Randomly run from 0 to 49 times (so at least 1 value is left)\n",
    "        random_top_curr = np.delete(random_top_curr, random.randint(0, len(random_top_curr) - 1), 0)  # remove a random value"
   ]
  },
  {
   "cell_type": "code",
   "execution_count": null,
   "metadata": {},
   "outputs": [],
   "source": [
    "    weight_random_top_curr = len(random_top_curr)  # Amount of currencsies"
   ]
  },
  {
   "cell_type": "code",
   "execution_count": null,
   "metadata": {},
   "outputs": [],
   "source": [
    "# Filter the days\n",
    "    is_dates = pd_data['date'] >= unique_day  # create filtering list from random date\n",
    "    pd_data = pd_data[is_dates]  # Filter by the random date and after\n",
    "    is_dates = pd_data['date'] <= unique_day_until  # create filtering list until 6 months after random date\n",
    "    pd_data = pd_data[is_dates]  # Filter by the random date and after"
   ]
  },
  {
   "cell_type": "code",
   "execution_count": null,
   "metadata": {},
   "outputs": [],
   "source": [
    " # Filter by top currensies\n",
    "    curr_in = pd_data['name'].isin(random_top_curr)  # Create filter list by random top currencies\n",
    "    pd_data = pd_data[curr_in]  # Apply filter list"
   ]
  },
  {
   "cell_type": "code",
   "execution_count": null,
   "metadata": {},
   "outputs": [],
   "source": [
    "# Formating and calculations\n",
    "    pd_data_1 = pd_data.pivot_table(index='date', columns='name', values='close')  # Set names as columns, close as values with date as index\n",
    "    ret = np.log(pd_data_1 / pd_data_1.shift(1))  # Calculate log-return of different stocks"
   ]
  },
  {
   "cell_type": "code",
   "execution_count": null,
   "metadata": {},
   "outputs": [],
   "source": [
    " ret = ret.dropna(axis=1, how='all').dropna(axis=0, how='all')  # Handling missing values, drop any column with a nan\n",
    "    for name, values in ret.cov().iteritems():\n",
    "        curr = values.values\n",
    "        curr[np.isnan(values)] = 0\n",
    "        if sum(curr) == 0:\n",
    "            ret = ret.drop(columns=[name])\n",
    "    if len(ret.columns) == 0: # if there are no columns set vals as NaN\n",
    "        results[\"N\"].append(0)\n",
    "        results[\"portfolio_return\"].append(0)\n",
    "        results[\"portfolio_volatility\"].append(0)\n",
    "        results[\"sharpe_ratio\"].append(0)\n",
    "    else:\n",
    "        weight = np.array(1 / len(ret.columns))  # calculate 1/N weights\n",
    "        results[\"N\"].append(len(ret.columns))"
   ]
  },
  {
   "cell_type": "code",
   "execution_count": null,
   "metadata": {},
   "outputs": [],
   "source": [
    "    weight_array = np.full((len(ret.columns), 1), weight)"
   ]
  },
  {
   "cell_type": "code",
   "execution_count": null,
   "metadata": {},
   "outputs": [],
   "source": [
    "# Portfolio return, Portfolio volatility, and Sharpe ratio\n",
    "        # Portfolio return (for holding period)\n",
    "        results[\"portfolio_return\"].append(port_ret(weight_array))"
   ]
  },
  {
   "cell_type": "code",
   "execution_count": null,
   "metadata": {},
   "outputs": [],
   "source": [
    " # Portfolio volatility (for holding period)\n",
    "        results[\"portfolio_volatility\"].append(np.sum(port_vol(weight_array)))"
   ]
  },
  {
   "cell_type": "code",
   "execution_count": null,
   "metadata": {},
   "outputs": [],
   "source": [
    "# Sharpe ratio (for holding period)\n",
    "        Sharpe_Ratio = ret.mean() / ret.std()\n",
    "        Holding_SR = (126 ** 0.5) * sum(Sharpe_Ratio)\n",
    "        results[\"sharpe_ratio\"].append(Holding_SR)"
   ]
  },
  {
   "cell_type": "code",
   "execution_count": null,
   "metadata": {},
   "outputs": [],
   "source": [
    "print(\"The code ran 10000 times.\")"
   ]
  },
  {
   "cell_type": "markdown",
   "metadata": {},
   "source": [
    "### 2.2.d)\n",
    "Plot the average portfolio volatility against the number of cryptos N in the portfolio."
   ]
  },
  {
   "cell_type": "code",
   "execution_count": null,
   "metadata": {},
   "outputs": [],
   "source": [
    "ex2 = plt.scatter(results[\"N\"], results[\"portfolio_volatility\"])\n",
    "#ex2_return = plt.scatter(results[\"N\"], results[\"portfolio_return\"])\n",
    "plt.show()\n",
    "print(\"PlaceholderText\")"
   ]
  },
  {
   "cell_type": "markdown",
   "metadata": {},
   "source": [
    "## 3.)\n",
    "Repeat the procedure in 2. but instead of using 1/N weights use Sharpe ratio maximizing weights from classical portfolio optimization (conditional on N ≥ 4)."
   ]
  },
  {
   "cell_type": "markdown",
   "metadata": {},
   "source": [
    "### 3.3.a)"
   ]
  },
  {
   "cell_type": "code",
   "execution_count": null,
   "metadata": {},
   "outputs": [],
   "source": [
    "results_2_3 = { # generate dictionary to carry information for each iteration\n",
    "    \"i\" : [], # Iteration\n",
    "    \"N\": [], # Number of cryptos\n",
    "    \"portfolio_return\" : [],\n",
    "    \"portfolio_volatility\" : [],\n",
    "    \"sharpe_ratio\" : []\n",
    "}\n",
    "results_2_3[\"i\"].append(0) # First result is created outside of loop"
   ]
  },
  {
   "cell_type": "code",
   "execution_count": null,
   "metadata": {},
   "outputs": [],
   "source": [
    "# Set inital data\n",
    "pd_data = new_data[['date', 'name', 'close']] # Filter to date, name and close"
   ]
  },
  {
   "cell_type": "code",
   "execution_count": null,
   "metadata": {},
   "outputs": [],
   "source": [
    "new_data_1 = new_data[['date', 'name', 'volume']] # Get data needed"
   ]
  },
  {
   "cell_type": "code",
   "execution_count": null,
   "metadata": {},
   "outputs": [],
   "source": [
    "# Choosing a random date\n",
    "n_randdom_day = random.randint(0,n_unique_days-1) # Select random entry number\n",
    "unique_day = unique_days[n_randdom_day] # get entry\n",
    "unique_day_until = datetime.strptime(unique_day, \"%Y-%m-%d\") + relativedelta(months=+6) # Find 6 months after random date\n",
    "unique_day_until = unique_day_until.strftime(\"%Y-%m-%d\") # Format as string"
   ]
  },
  {
   "cell_type": "code",
   "execution_count": null,
   "metadata": {},
   "outputs": [],
   "source": [
    "# Print random date information:\n",
    "print(\"The random chosen date is: \" + unique_day)"
   ]
  },
  {
   "cell_type": "code",
   "execution_count": null,
   "metadata": {},
   "outputs": [],
   "source": [
    "# Choose a random N of cryptos\n",
    "random_top_curr = crypto_curr.index.values # top 50 curencies - from 2.1\n",
    "for n in range(random.randint(0,49)): # Randomly run from 0 to 49 times (so at least 1 value is left)\n",
    "    random_top_curr = np.delete(random_top_curr, random.randint(0,len(random_top_curr)-1), 0) # remove a random value"
   ]
  },
  {
   "cell_type": "code",
   "execution_count": null,
   "metadata": {},
   "outputs": [],
   "source": [
    "weight_random_top_curr = len(random_top_curr) # Amount of currencsies"
   ]
  },
  {
   "cell_type": "code",
   "execution_count": null,
   "metadata": {},
   "outputs": [],
   "source": [
    "print(\"There are \", weight_random_top_curr, \" currencies.\\nThe random top currencies are:\")\n",
    "print(random_top_curr)"
   ]
  },
  {
   "cell_type": "code",
   "execution_count": null,
   "metadata": {},
   "outputs": [],
   "source": [
    "# Filter the days\n",
    "is_dates = pd_data['date'] >= unique_day # create filtering list from random date\n",
    "pd_data = pd_data[is_dates] # Filter by the random date and after\n",
    "is_dates = pd_data['date'] <= unique_day_until # create filtering list until 6 months after random date\n",
    "pd_data = pd_data[is_dates] # Filter by the random date and after"
   ]
  },
  {
   "cell_type": "code",
   "execution_count": null,
   "metadata": {},
   "outputs": [],
   "source": [
    "# Filter by top currencies\n",
    "curr_in = pd_data['name'].isin(random_top_curr) # Create filter list by random top currencies\n",
    "pd_data = pd_data[curr_in] # Apply filter list"
   ]
  },
  {
   "cell_type": "code",
   "execution_count": null,
   "metadata": {},
   "outputs": [],
   "source": [
    "pd_data_1 = pd_data.pivot_table(index = 'date', columns = 'name', values = 'close') # Set names as columns, close as values with date as index\n",
    "ret = pd_data_1/pd_data_1.shift(1) # Calculate log-return of different stocks"
   ]
  },
  {
   "cell_type": "code",
   "execution_count": null,
   "metadata": {},
   "outputs": [],
   "source": [
    "ret = ret.dropna(axis=1, how='all').dropna(axis=0, how='all')  # Handling missing values, drop any column with a nan\n",
    "for item in random_top_curr:\n",
    "    if(item not in ret.columns):\n",
    "        print(item + \" removed because it was empty for holding period.\")"
   ]
  },
  {
   "cell_type": "code",
   "execution_count": null,
   "metadata": {},
   "outputs": [],
   "source": [
    "if (len(ret.columns) < weight_random_top_curr):\n",
    "    print(\"N is now: \" + str(len(ret.columns)))"
   ]
  },
  {
   "cell_type": "markdown",
   "metadata": {},
   "source": [
    "### 3.3.b)"
   ]
  },
  {
   "cell_type": "code",
   "execution_count": null,
   "metadata": {},
   "outputs": [],
   "source": [
    "results_2_3[\"N\"].append(len(ret.columns)) # Append Number of columns to results dictionary"
   ]
  },
  {
   "cell_type": "code",
   "execution_count": null,
   "metadata": {},
   "outputs": [],
   "source": [
    "# Sharpe ratio (for holding period)\n",
    "Sharpe_Ratio = ret.mean()/ret.std() # Calculate sharpe ratio for each currency\n",
    "Holding_SR = (126**0.5) * Sharpe_Ratio # Account for holding period"
   ]
  },
  {
   "cell_type": "code",
   "execution_count": null,
   "metadata": {},
   "outputs": [],
   "source": [
    "weight = np.array(1/len(ret.columns)) # Calculate 1/N weights\n",
    "weight_array = np.full((len(ret.columns), 1), weight)  # Create array with weight N times"
   ]
  },
  {
   "cell_type": "code",
   "execution_count": null,
   "metadata": {},
   "outputs": [],
   "source": [
    "def min_func_sharpe(weight_array):\n",
    "    print(\"her\")\n",
    "    print(weight_array)\n",
    "    min_sharpe = -port_ret(weight_array) / np.sum(port_vol(weight_array))\n",
    "    return(min_sharpe)"
   ]
  },
  {
   "cell_type": "code",
   "execution_count": null,
   "metadata": {},
   "outputs": [],
   "source": [
    "cons = ({'type': 'eq', 'fun': lambda x:  np.sum(x) - 1})\n",
    "bnds = tuple((0, 1) for x in range(len(ret.columns)))"
   ]
  },
  {
   "cell_type": "code",
   "execution_count": null,
   "metadata": {},
   "outputs": [],
   "source": [
    "opts = sco.minimize(min_func_sharpe, weight, method='SLSQP', bounds=bnds, constraints=cons)\n",
    "weight_array = opts[\"x\"].T"
   ]
  },
  {
   "cell_type": "code",
   "execution_count": null,
   "metadata": {},
   "outputs": [],
   "source": [
    "# Portfolio return, Portfolio volatility, and Sharpe ratio\n",
    "# Add to array (for ex2.3 c and ex2.3 d)\n",
    "results_2_3[\"portfolio_return\"].append(port_ret(weight_array))\n",
    "results_2_3[\"portfolio_volatility\"].append(np.sum(port_vol(weight_array)))\n",
    "results_2_3[\"sharpe_ratio\"].append(port_ret(weight_array)/np.sum(port_vol(weight_array)))"
   ]
  },
  {
   "cell_type": "code",
   "execution_count": null,
   "metadata": {},
   "outputs": [],
   "source": [
    "print(\"The loop for Excersice 2.3.c did not work, thus 2.3.c-d and 2.4 could not be done. We used the example from the lectures as a base. During our handling of invalid data, and reformating to run the code, somehow it lost the ability to run.\")"
   ]
  },
  {
   "cell_type": "markdown",
   "metadata": {},
   "source": [
    "### 3.3.c)"
   ]
  },
  {
   "cell_type": "code",
   "execution_count": null,
   "metadata": {},
   "outputs": [],
   "source": [
    "#for i in range(1,10000):\n",
    "for i in range(1,5):\n",
    "    # Set inital data\n",
    "    pd_data = new_data[['date', 'name', 'close']]  # Filter to date, name and close"
   ]
  },
  {
   "cell_type": "code",
   "execution_count": null,
   "metadata": {},
   "outputs": [],
   "source": [
    "# Choosing a random date\n",
    "    n_randdom_day = random.randint(0, n_unique_days - 1)  # Select random entry number\n",
    "    unique_day = unique_days[n_randdom_day]  # get entry\n",
    "    unique_day_until = datetime.strptime(unique_day, \"%Y-%m-%d\") + relativedelta(months=+6)  # Find 6 months after random date\n",
    "    unique_day_until = unique_day_until.strftime(\"%Y-%m-%d\")  # Format as string"
   ]
  },
  {
   "cell_type": "code",
   "execution_count": null,
   "metadata": {},
   "outputs": [],
   "source": [
    "# Choose a random N of cryptos\n",
    "    random_top_curr = crypto_curr.index.values  # top 50 curencies - from 2.1\n",
    "    for n in range(random.randint(0, 49)):  # Randomly run from 0 to 49 times (so at least 1 value is left)\n",
    "        random_top_curr = np.delete(random_top_curr, random.randint(0, len(random_top_curr) - 1), 0)  # remove a random value"
   ]
  },
  {
   "cell_type": "code",
   "execution_count": null,
   "metadata": {},
   "outputs": [],
   "source": [
    "weight_random_top_curr = len(random_top_curr)  # Amount of currencsies"
   ]
  },
  {
   "cell_type": "code",
   "execution_count": null,
   "metadata": {},
   "outputs": [],
   "source": [
    "# Filter the days\n",
    "    is_dates = pd_data['date'] >= unique_day  # create filtering list from random date\n",
    "    pd_data = pd_data[is_dates]  # Filter by the random date and after\n",
    "    is_dates = pd_data['date'] <= unique_day_until  # create filtering list until 6 months after random date\n",
    "    pd_data = pd_data[is_dates]  # Filter by the random date and after"
   ]
  },
  {
   "cell_type": "code",
   "execution_count": null,
   "metadata": {},
   "outputs": [],
   "source": [
    "# Filter by top currencies\n",
    "    curr_in = pd_data['name'].isin(random_top_curr)  # Create filter list by random top currencies\n",
    "    pd_data = pd_data[curr_in]  # Apply filter list\n",
    "    pd_data_1 = pd_data.pivot_table(index='date', columns='name', values='close')  # Set names as columns, close as values with date as index\n",
    "    ret = pd_data_1 / pd_data_1.shift(1)  # Calculate log-return of different stocks\n",
    "    ret = ret.dropna(axis=1, how='all').dropna(axis=0, how='all')  # Handling missing values, drop any column with a nan"
   ]
  },
  {
   "cell_type": "code",
   "execution_count": null,
   "metadata": {},
   "outputs": [],
   "source": [
    "    for name, values in ret.cov().iteritems(): # Drop values that have no cov\n",
    "        curr = values.values # Get values\n",
    "        curr[np.isnan(values)] = 0 # Set to 0\n",
    "        if sum(curr) == 0:\n",
    "            ret = ret.drop(columns=[name])"
   ]
  },
  {
   "cell_type": "code",
   "execution_count": null,
   "metadata": {},
   "outputs": [],
   "source": [
    "    if len(ret.columns) >= 4: # if there are no columns set vals as NaN\n",
    "        results_2_3[\"i\"].append(i)  # First result is created outside of loop\n",
    "        results_2_3[\"N\"].append(len(ret.columns))  # Append Number of columns to results dictionary"
   ]
  },
  {
   "cell_type": "code",
   "execution_count": null,
   "metadata": {},
   "outputs": [],
   "source": [
    "        # Sharpe ratio (for holding period)\n",
    "        Sharpe_Ratio = ret.mean() / ret.std()  # Calculate sharpe ratio for each currency\n",
    "        #Holding_SR = (126 ** 0.5) * Sharpe_Ratio  # Account for holding period"
   ]
  },
  {
   "cell_type": "code",
   "execution_count": null,
   "metadata": {},
   "outputs": [],
   "source": [
    "        sum(Sharpe_Ratio/sum(Sharpe_Ratio))"
   ]
  },
  {
   "cell_type": "code",
   "execution_count": null,
   "metadata": {},
   "outputs": [],
   "source": [
    "        weight = np.array(1 / len(ret.columns))  # Calculate 1/N weights\n",
    "        weight_array = np.full((len(ret.columns), 1), weight)  # Create array with weight N times"
   ]
  },
  {
   "cell_type": "code",
   "execution_count": null,
   "metadata": {},
   "outputs": [],
   "source": [
    "        opts = sco.minimize(min_func_sharpe, weight_array, method='SLSQP', bounds=bnds, constraints=cons)\n",
    "        weight_array = opts[\"x\"].T"
   ]
  },
  {
   "cell_type": "code",
   "execution_count": null,
   "metadata": {},
   "outputs": [],
   "source": [
    "        # Portfolio return, Portfolio volatility, and Sharpe ratio\n",
    "        # Add to array (for ex2.3 c and ex2.3 d)\n",
    "        results_2_3[\"portfolio_return\"].append(port_ret(weight_array))\n",
    "        results_2_3[\"portfolio_volatility\"].append(np.sum(port_vol(weight_array)))\n",
    "        results_2_3[\"sharpe_ratio\"].append(port_ret(weight_array) / np.sum(port_vol(weight_array)))\n",
    "    else:\n",
    "        i = i-1\n",
    "        continue"
   ]
  },
  {
   "cell_type": "markdown",
   "metadata": {},
   "source": [
    "### 3.3.d)"
   ]
  },
  {
   "cell_type": "code",
   "execution_count": null,
   "metadata": {},
   "outputs": [],
   "source": [
    "#ex3 = plt.plot(results_2_3[\"N\"], results_2_3[\"portfolio_volatility\"])"
   ]
  },
  {
   "cell_type": "markdown",
   "metadata": {},
   "source": [
    "## 4.)"
   ]
  },
  {
   "cell_type": "code",
   "execution_count": null,
   "metadata": {},
   "outputs": [],
   "source": [
    "#%% Excersice 2.4\n",
    "#fig, ex4 = plt.subplots(2)\n",
    "#fig.suptitle('Comparing results from 2. and 3.')\n",
    "#ex4[0].ex2\n",
    "#ex4[1].ex3\n",
    "\n",
    "print(\"The end\")"
   ]
  }
 ],
 "metadata": {
  "kernelspec": {
   "display_name": "Python 3",
   "language": "python",
   "name": "python3"
  },
  "language_info": {
   "codemirror_mode": {
    "name": "ipython",
    "version": 3
   },
   "file_extension": ".py",
   "mimetype": "text/x-python",
   "name": "python",
   "nbconvert_exporter": "python",
   "pygments_lexer": "ipython3",
   "version": "3.8.3"
  }
 },
 "nbformat": 4,
 "nbformat_minor": 4
}
